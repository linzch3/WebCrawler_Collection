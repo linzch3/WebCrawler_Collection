{
 "cells": [
  {
   "cell_type": "markdown",
   "metadata": {},
   "source": [
    "\n",
    "---\n",
    "\n",
    "爬取 https://www.tandfonline.com/loi/rcit20 、 https://www.tandfonline.com/loi/rcit20 、 https://www.emeraldinsight.com/loi/ijchm 、 http://journals.sagepub.com/loi/jtrb 网页中2010-2018所有issue下的PDF文献\n",
    "\n",
    "---"
   ]
  },
  {
   "cell_type": "markdown",
   "metadata": {},
   "source": [
    "## 1.import一些会使用到的库 + 使用到的函数"
   ]
  },
  {
   "cell_type": "code",
   "execution_count": 1,
   "metadata": {
    "ExecuteTime": {
     "end_time": "2018-07-22T01:04:00.346600Z",
     "start_time": "2018-07-22T01:03:59.779173Z"
    },
    "collapsed": true
   },
   "outputs": [],
   "source": [
    "import requests\n",
    "from bs4 import BeautifulSoup\n",
    "import re\n",
    "import traceback\n",
    "headers = {'User-Agent':'Mozilla/5.0 (Windows NT 10.0; WOW64) AppleWebKit/537.36 (KHTML, like Gecko) Chrome/57.0.2987.98 Safari/537.36'}\n",
    "\n",
    "def getHTMLText(url, code='utf-8'):\n",
    "    cnt=1\n",
    "    '''测试版本的getHTMLText函数 只尝试 较少的次数 进行抓取，方便debug'''\n",
    "    tryTime = 5\n",
    "    while cnt<=tryTime:\n",
    "        try:\n",
    "            #print(\"处理URL:\"+url)\n",
    "            r = requests.get(url, headers=headers, timeout=3000)\n",
    "            r.raise_for_status()\n",
    "            r.encoding = code #r.apparent_encoding\n",
    "            return r.text\n",
    "        except:\n",
    "            cnt=cnt+1\n",
    "            traceback.print_exc()\n",
    "            print('\\n\\ntry again....\\n\\n')\n",
    "    print('%s times try, but failed........' % tryTime)\n",
    "    return None\n",
    "\n",
    "def printEncoding(url):\n",
    "    r = requests.get(url, headers=headers, timeout=3000)\n",
    "    r.raise_for_status()\n",
    "    print('编码方式为：'+r.apparent_encoding) #注意判断编码方式"
   ]
  },
  {
   "cell_type": "markdown",
   "metadata": {
    "ExecuteTime": {
     "end_time": "2018-07-21T20:07:53.185577Z",
     "start_time": "2018-07-21T20:07:53.180580Z"
    }
   },
   "source": [
    "# 爬取 https://www.tandfonline.com/loi/rcit20"
   ]
  },
  {
   "cell_type": "markdown",
   "metadata": {},
   "source": [
    "## 得到各个volume的链接"
   ]
  },
  {
   "cell_type": "code",
   "execution_count": 61,
   "metadata": {
    "ExecuteTime": {
     "end_time": "2018-07-21T20:54:39.089079Z",
     "start_time": "2018-07-21T20:54:34.889180Z"
    }
   },
   "outputs": [
    {
     "name": "stdout",
     "output_type": "stream",
     "text": [
      "处理URL:https://www.tandfonline.com/loi/rcit20\n"
     ]
    },
    {
     "data": {
      "text/plain": [
       "['https://www.tandfonline.com/loi/rcit20?open=21&year=2018&repitition=0#vol_21_2018',\n",
       " 'https://www.tandfonline.com/loi/rcit20?open=20&year=2017&repitition=0#vol_20_2017',\n",
       " 'https://www.tandfonline.com/loi/rcit20?open=19&year=2016&repitition=0#vol_19_2016',\n",
       " 'https://www.tandfonline.com/loi/rcit20?open=18&year=2015&repitition=0#vol_18_2015',\n",
       " 'https://www.tandfonline.com/loi/rcit20?open=17&year=2014&repitition=0#vol_17_2014',\n",
       " 'https://www.tandfonline.com/loi/rcit20?open=16&year=2013&repitition=0#vol_16_2013',\n",
       " 'https://www.tandfonline.com/loi/rcit20?open=15&year=2012&repitition=0#vol_15_2012',\n",
       " 'https://www.tandfonline.com/loi/rcit20?open=14&year=2011&repitition=0#vol_14_2011',\n",
       " 'https://www.tandfonline.com/loi/rcit20?open=13&year=2010&repitition=0#vol_13_2010']"
      ]
     },
     "execution_count": 61,
     "metadata": {},
     "output_type": "execute_result"
    }
   ],
   "source": [
    "def getVolLinkList(type_):\n",
    "    basicUrL = 'https://www.tandfonline.com/loi/' + type_\n",
    "    soup1 = BeautifulSoup(getHTMLText(basicUrL, 'ISO-8859-1'), \"html.parser\")\n",
    "    volList = soup1.find_all('li',\n",
    "                              attrs={'class':'vol_li '})\n",
    "    volListPattern = re.compile('href=\"(.*?)\"')\n",
    "    volLinkList_ = []\n",
    "    for vol in volList:\n",
    "        volLinkList_.append('https://www.tandfonline.com' + volListPattern.findall(str(vol))[0])\n",
    "    return volLinkList_\n",
    "\n",
    "volLinkList = getVolLinkList('rcit20')[0:9]#只需爬取2010-2018的数据\n",
    "volLinkList = [i.replace('amp;', '') for i in volLinkList]#去除链接上的amp;使后续操作方便\n",
    "volLinkList"
   ]
  },
  {
   "cell_type": "markdown",
   "metadata": {},
   "source": [
    "## 得到各个volume下issue的链接"
   ]
  },
  {
   "cell_type": "code",
   "execution_count": 65,
   "metadata": {
    "ExecuteTime": {
     "end_time": "2018-07-21T21:01:23.000718Z",
     "start_time": "2018-07-21T21:01:20.344195Z"
    }
   },
   "outputs": [
    {
     "name": "stdout",
     "output_type": "stream",
     "text": [
      "处理URL:https://www.tandfonline.com/loi/rcit20?open=21&year=2018&repitition=0#vol_21_2018\n"
     ]
    },
    {
     "data": {
      "text/plain": [
       "['https://www.tandfonline.com//toc/rcit20/21/14?nav=tocList',\n",
       " 'https://www.tandfonline.com//toc/rcit20/21/13?nav=tocList',\n",
       " 'https://www.tandfonline.com//toc/rcit20/21/12?nav=tocList',\n",
       " 'https://www.tandfonline.com//toc/rcit20/21/11?nav=tocList',\n",
       " 'https://www.tandfonline.com//toc/rcit20/21/10?nav=tocList',\n",
       " 'https://www.tandfonline.com//toc/rcit20/21/9?nav=tocList',\n",
       " 'https://www.tandfonline.com//toc/rcit20/21/8?nav=tocList',\n",
       " 'https://www.tandfonline.com//toc/rcit20/21/7?nav=tocList',\n",
       " 'https://www.tandfonline.com//toc/rcit20/21/6?nav=tocList',\n",
       " 'https://www.tandfonline.com//toc/rcit20/21/5?nav=tocList',\n",
       " 'https://www.tandfonline.com//toc/rcit20/21/4?nav=tocList',\n",
       " 'https://www.tandfonline.com//toc/rcit20/21/3?nav=tocList',\n",
       " 'https://www.tandfonline.com//toc/rcit20/21/2?nav=tocList',\n",
       " 'https://www.tandfonline.com//toc/rcit20/21/1?nav=tocList']"
      ]
     },
     "execution_count": 65,
     "metadata": {},
     "output_type": "execute_result"
    }
   ],
   "source": [
    "def getIssueList(volLink):\n",
    "    issueListPattern = re.compile('href=\"(/toc.*?nav=tocList)\"')\n",
    "    issueList_ = issueListPattern.findall(getHTMLText(volLink, 'ISO-8859-1'))[1:] #去除第一个\n",
    "    issueList_ = ['https://www.tandfonline.com/' + i for i in issueList_]\n",
    "    return issueList_\n",
    "\n",
    "#测试\n",
    "getIssueList(volLinkList[0])"
   ]
  },
  {
   "cell_type": "markdown",
   "metadata": {},
   "source": [
    "## 得到各个issue下面的文献的PDF下载链接以及文献名字"
   ]
  },
  {
   "cell_type": "markdown",
   "metadata": {},
   "source": [
    "emmmmmm任务终止，下载需要钱，pass"
   ]
  },
  {
   "cell_type": "markdown",
   "metadata": {},
   "source": [
    "# 爬取 https://www.emeraldinsight.com/loi/ijchm"
   ]
  },
  {
   "cell_type": "markdown",
   "metadata": {},
   "source": [
    "## 得到各个volume的链接"
   ]
  },
  {
   "cell_type": "code",
   "execution_count": 80,
   "metadata": {
    "ExecuteTime": {
     "end_time": "2018-07-21T21:58:44.277283Z",
     "start_time": "2018-07-21T21:58:44.263290Z"
    },
    "scrolled": true
   },
   "outputs": [
    {
     "name": "stdout",
     "output_type": "stream",
     "text": [
      "https://www.emeraldinsight.com/toc/ijchm/22/1\n",
      "https://www.emeraldinsight.com/toc/ijchm/22/2\n",
      "https://www.emeraldinsight.com/toc/ijchm/22/3\n",
      "https://www.emeraldinsight.com/toc/ijchm/22/4\n",
      "https://www.emeraldinsight.com/toc/ijchm/22/5\n",
      "https://www.emeraldinsight.com/toc/ijchm/22/6\n",
      "https://www.emeraldinsight.com/toc/ijchm/22/7\n",
      "https://www.emeraldinsight.com/toc/ijchm/23/1\n",
      "https://www.emeraldinsight.com/toc/ijchm/23/2\n",
      "https://www.emeraldinsight.com/toc/ijchm/23/3\n",
      "https://www.emeraldinsight.com/toc/ijchm/23/4\n",
      "https://www.emeraldinsight.com/toc/ijchm/23/5\n",
      "https://www.emeraldinsight.com/toc/ijchm/23/6\n",
      "https://www.emeraldinsight.com/toc/ijchm/23/7\n",
      "https://www.emeraldinsight.com/toc/ijchm/24/1\n",
      "https://www.emeraldinsight.com/toc/ijchm/24/2\n",
      "https://www.emeraldinsight.com/toc/ijchm/24/3\n",
      "https://www.emeraldinsight.com/toc/ijchm/24/4\n",
      "https://www.emeraldinsight.com/toc/ijchm/24/5\n",
      "https://www.emeraldinsight.com/toc/ijchm/24/6\n",
      "https://www.emeraldinsight.com/toc/ijchm/24/7\n",
      "https://www.emeraldinsight.com/toc/ijchm/25/1\n",
      "https://www.emeraldinsight.com/toc/ijchm/25/2\n",
      "https://www.emeraldinsight.com/toc/ijchm/25/3\n",
      "https://www.emeraldinsight.com/toc/ijchm/25/4\n",
      "https://www.emeraldinsight.com/toc/ijchm/25/5\n",
      "https://www.emeraldinsight.com/toc/ijchm/25/6\n",
      "https://www.emeraldinsight.com/toc/ijchm/25/7\n",
      "https://www.emeraldinsight.com/toc/ijchm/26/1\n",
      "https://www.emeraldinsight.com/toc/ijchm/26/2\n",
      "https://www.emeraldinsight.com/toc/ijchm/26/3\n",
      "https://www.emeraldinsight.com/toc/ijchm/26/4\n",
      "https://www.emeraldinsight.com/toc/ijchm/26/5\n",
      "https://www.emeraldinsight.com/toc/ijchm/26/6\n",
      "https://www.emeraldinsight.com/toc/ijchm/26/7\n",
      "https://www.emeraldinsight.com/toc/ijchm/26/8\n",
      "https://www.emeraldinsight.com/toc/ijchm/27/1\n",
      "https://www.emeraldinsight.com/toc/ijchm/27/2\n",
      "https://www.emeraldinsight.com/toc/ijchm/27/3\n",
      "https://www.emeraldinsight.com/toc/ijchm/27/4\n",
      "https://www.emeraldinsight.com/toc/ijchm/27/5\n",
      "https://www.emeraldinsight.com/toc/ijchm/27/6\n",
      "https://www.emeraldinsight.com/toc/ijchm/27/7\n",
      "https://www.emeraldinsight.com/toc/ijchm/27/8\n",
      "https://www.emeraldinsight.com/toc/ijchm/28/1\n",
      "https://www.emeraldinsight.com/toc/ijchm/28/2\n",
      "https://www.emeraldinsight.com/toc/ijchm/28/3\n",
      "https://www.emeraldinsight.com/toc/ijchm/28/4\n",
      "https://www.emeraldinsight.com/toc/ijchm/28/5\n",
      "https://www.emeraldinsight.com/toc/ijchm/28/6\n",
      "https://www.emeraldinsight.com/toc/ijchm/28/7\n",
      "https://www.emeraldinsight.com/toc/ijchm/28/8\n",
      "https://www.emeraldinsight.com/toc/ijchm/28/9\n",
      "https://www.emeraldinsight.com/toc/ijchm/28/10\n",
      "https://www.emeraldinsight.com/toc/ijchm/28/11\n",
      "https://www.emeraldinsight.com/toc/ijchm/28/12\n",
      "https://www.emeraldinsight.com/toc/ijchm/29/1\n",
      "https://www.emeraldinsight.com/toc/ijchm/29/2\n",
      "https://www.emeraldinsight.com/toc/ijchm/29/3\n",
      "https://www.emeraldinsight.com/toc/ijchm/29/4\n",
      "https://www.emeraldinsight.com/toc/ijchm/29/5\n",
      "https://www.emeraldinsight.com/toc/ijchm/29/6\n",
      "https://www.emeraldinsight.com/toc/ijchm/29/7\n",
      "https://www.emeraldinsight.com/toc/ijchm/29/8\n",
      "https://www.emeraldinsight.com/toc/ijchm/29/9\n",
      "https://www.emeraldinsight.com/toc/ijchm/29/10\n",
      "https://www.emeraldinsight.com/toc/ijchm/29/11\n",
      "https://www.emeraldinsight.com/toc/ijchm/29/12\n",
      "https://www.emeraldinsight.com/toc/ijchm/30/1\n",
      "https://www.emeraldinsight.com/toc/ijchm/30/2\n",
      "https://www.emeraldinsight.com/toc/ijchm/30/3\n",
      "https://www.emeraldinsight.com/toc/ijchm/30/4\n",
      "https://www.emeraldinsight.com/toc/ijchm/30/5\n",
      "https://www.emeraldinsight.com/toc/ijchm/30/6\n"
     ]
    }
   ],
   "source": [
    "year2vol = {2018:[6, 30], 2017:[12,29], 2016:[12, 28],\n",
    "            2015:[8, 27], 2014:[8, 26], 2013:[7, 25],\n",
    "            2012:[7, 24], 2011:[7, 23], 2010:[7, 22]}\n",
    "for year in range(2010, 2019):\n",
    "    for issue in range(1, year2vol[year][0]+1):\n",
    "        #TODO:针对每一个issue抓取数据\n",
    "        print('https://www.emeraldinsight.com/toc/ijchm/'+str(year2vol[year][1])+'/'+str(issue))"
   ]
  },
  {
   "cell_type": "markdown",
   "metadata": {
    "ExecuteTime": {
     "end_time": "2018-07-21T21:41:47.222659Z",
     "start_time": "2018-07-21T21:41:47.218662Z"
    }
   },
   "source": [
    "## 得到各个issue下面的文献的PDF下载链接以及文献名字"
   ]
  },
  {
   "cell_type": "code",
   "execution_count": 81,
   "metadata": {
    "ExecuteTime": {
     "end_time": "2018-07-21T21:58:52.883214Z",
     "start_time": "2018-07-21T21:58:47.587341Z"
    }
   },
   "outputs": [
    {
     "name": "stdout",
     "output_type": "stream",
     "text": [
      "编码方式为：utf-8\n"
     ]
    }
   ],
   "source": [
    "printEncoding('https://www.emeraldinsight.com/toc/ijchm/30/6')"
   ]
  },
  {
   "cell_type": "code",
   "execution_count": 139,
   "metadata": {
    "ExecuteTime": {
     "end_time": "2018-07-21T23:50:27.741882Z",
     "start_time": "2018-07-21T23:50:26.216758Z"
    }
   },
   "outputs": [
    {
     "data": {
      "text/plain": [
       "[('/doi/full/10.1108/IJCHM-01-2018-0043',\n",
       "  'Collaborative innovation in tourism and hospitality: a systematic review of the literature'),\n",
       " ('/doi/full/10.1108/IJCHM-08-2016-0426',\n",
       "  'Understanding collaborative innovation from a dynamic capabilities perspective'),\n",
       " ('/doi/full/10.1108/IJCHM-07-2016-0392',\n",
       "  'Social capital, knowledge sharing and innovation of small- and medium-sized enterprises in a tourism cluster'),\n",
       " ('/doi/full/10.1108/IJCHM-11-2016-0611',\n",
       "  'Inter-organizational relationships with core and peripheral partners in heritage tourism clusters: Divergent effects on innovation'),\n",
       " ('/doi/full/10.1108/IJCHM-02-2017-0112',\n",
       "  'The ties that bind: stakeholder collaboration and networking in local festivals'),\n",
       " ('/doi/full/10.1108/IJCHM-06-2017-0323', 'Innovation in Swedish hotels'),\n",
       " ('/doi/full/10.1108/IJCHM-07-2016-0396',\n",
       "  'Collaborative innovation: catalyst for a destination’s event success'),\n",
       " ('/doi/full/10.1108/IJCHM-04-2016-0233',\n",
       "  'Open innovation platforms in tourism: how do stakeholders engage and reach consensus?'),\n",
       " ('/doi/full/10.1108/IJCHM-07-2016-0341',\n",
       "  'Knowledge sources and innovation in the hotel industry: Empirical analysis on Gran Canaria Island, a mature mass-tourism destination'),\n",
       " ('/doi/full/10.1108/IJCHM-07-2016-0401',\n",
       "  'Orchestration of innovation networks in collaborative settings')]"
      ]
     },
     "execution_count": 139,
     "metadata": {},
     "output_type": "execute_result"
    }
   ],
   "source": [
    "pdfPattern = re.compile('<a class=\"ref nowrap\" href=\"(.*?)\">(.*?)</a>')\n",
    "pdfList = pdfPattern.findall(getHTMLText('https://www.emeraldinsight.com/toc/ijchm/30/6',\n",
    "                               'utf-8'))[::2][:-1] #去除冗余无用的链接\n",
    "pdfList"
   ]
  },
  {
   "cell_type": "code",
   "execution_count": 140,
   "metadata": {
    "ExecuteTime": {
     "end_time": "2018-07-21T23:50:37.359365Z",
     "start_time": "2018-07-21T23:50:37.345374Z"
    }
   },
   "outputs": [
    {
     "data": {
      "text/plain": [
       "[['https://www.emeraldinsight.com/doi/pdfplus/10.1108/IJCHM-01-2018-0043',\n",
       "  'Collaborative innovation in tourism and hospitality: a systematic review of the literature'],\n",
       " ['https://www.emeraldinsight.com/doi/pdfplus/10.1108/IJCHM-08-2016-0426',\n",
       "  'Understanding collaborative innovation from a dynamic capabilities perspective'],\n",
       " ['https://www.emeraldinsight.com/doi/pdfplus/10.1108/IJCHM-07-2016-0392',\n",
       "  'Social capital, knowledge sharing and innovation of small- and medium-sized enterprises in a tourism cluster'],\n",
       " ['https://www.emeraldinsight.com/doi/pdfplus/10.1108/IJCHM-11-2016-0611',\n",
       "  'Inter-organizational relationships with core and peripheral partners in heritage tourism clusters: Divergent effects on innovation'],\n",
       " ['https://www.emeraldinsight.com/doi/pdfplus/10.1108/IJCHM-02-2017-0112',\n",
       "  'The ties that bind: stakeholder collaboration and networking in local festivals'],\n",
       " ['https://www.emeraldinsight.com/doi/pdfplus/10.1108/IJCHM-06-2017-0323',\n",
       "  'Innovation in Swedish hotels'],\n",
       " ['https://www.emeraldinsight.com/doi/pdfplus/10.1108/IJCHM-07-2016-0396',\n",
       "  'Collaborative innovation: catalyst for a destination’s event success'],\n",
       " ['https://www.emeraldinsight.com/doi/pdfplus/10.1108/IJCHM-04-2016-0233',\n",
       "  'Open innovation platforms in tourism: how do stakeholders engage and reach consensus?'],\n",
       " ['https://www.emeraldinsight.com/doi/pdfplus/10.1108/IJCHM-07-2016-0341',\n",
       "  'Knowledge sources and innovation in the hotel industry: Empirical analysis on Gran Canaria Island, a mature mass-tourism destination'],\n",
       " ['https://www.emeraldinsight.com/doi/pdfplus/10.1108/IJCHM-07-2016-0401',\n",
       "  'Orchestration of innovation networks in collaborative settings']]"
      ]
     },
     "execution_count": 140,
     "metadata": {},
     "output_type": "execute_result"
    }
   ],
   "source": [
    "newPdfList = []\n",
    "for item in pdfList:\n",
    "    item = list(item)\n",
    "    item[0] = 'https://www.emeraldinsight.com' + item[0].replace('full', 'pdfplus')\n",
    "    newPdfList.append(item)\n",
    "newPdfList"
   ]
  },
  {
   "cell_type": "markdown",
   "metadata": {},
   "source": [
    "## 下载PDF"
   ]
  },
  {
   "cell_type": "code",
   "execution_count": 98,
   "metadata": {
    "ExecuteTime": {
     "end_time": "2018-07-21T22:10:49.526387Z",
     "start_time": "2018-07-21T22:10:41.145835Z"
    }
   },
   "outputs": [
    {
     "ename": "TypeError",
     "evalue": "Can't convert 'NoneType' object to str implicitly",
     "output_type": "error",
     "traceback": [
      "\u001b[1;31m---------------------------------------------------------------------------\u001b[0m",
      "\u001b[1;31mTypeError\u001b[0m                                 Traceback (most recent call last)",
      "\u001b[1;32m<ipython-input-98-e54304520102>\u001b[0m in \u001b[0;36m<module>\u001b[1;34m()\u001b[0m\n\u001b[1;32m----> 1\u001b[1;33m \u001b[0mprintEncoding\u001b[0m\u001b[1;33m(\u001b[0m\u001b[1;34m'https://www.emeraldinsight.com/doi/pdfplus/10.1108/IJCHM-01-2018-0043'\u001b[0m\u001b[1;33m)\u001b[0m\u001b[1;33m\u001b[0m\u001b[0m\n\u001b[0m",
      "\u001b[1;32m<ipython-input-79-548219944b92>\u001b[0m in \u001b[0;36mprintEncoding\u001b[1;34m(url)\u001b[0m\n\u001b[0;32m     26\u001b[0m     \u001b[0mr\u001b[0m \u001b[1;33m=\u001b[0m \u001b[0mrequests\u001b[0m\u001b[1;33m.\u001b[0m\u001b[0mget\u001b[0m\u001b[1;33m(\u001b[0m\u001b[0murl\u001b[0m\u001b[1;33m,\u001b[0m \u001b[0mheaders\u001b[0m\u001b[1;33m=\u001b[0m\u001b[0mheaders\u001b[0m\u001b[1;33m,\u001b[0m \u001b[0mtimeout\u001b[0m\u001b[1;33m=\u001b[0m\u001b[1;36m3000\u001b[0m\u001b[1;33m)\u001b[0m\u001b[1;33m\u001b[0m\u001b[0m\n\u001b[0;32m     27\u001b[0m     \u001b[0mr\u001b[0m\u001b[1;33m.\u001b[0m\u001b[0mraise_for_status\u001b[0m\u001b[1;33m(\u001b[0m\u001b[1;33m)\u001b[0m\u001b[1;33m\u001b[0m\u001b[0m\n\u001b[1;32m---> 28\u001b[1;33m     \u001b[0mprint\u001b[0m\u001b[1;33m(\u001b[0m\u001b[1;34m'编码方式为：'\u001b[0m\u001b[1;33m+\u001b[0m\u001b[0mr\u001b[0m\u001b[1;33m.\u001b[0m\u001b[0mapparent_encoding\u001b[0m\u001b[1;33m)\u001b[0m \u001b[1;31m#注意判断编码方式\u001b[0m\u001b[1;33m\u001b[0m\u001b[0m\n\u001b[0m",
      "\u001b[1;31mTypeError\u001b[0m: Can't convert 'NoneType' object to str implicitly"
     ]
    }
   ],
   "source": [
    "printEncoding('https://www.emeraldinsight.com/doi/pdfplus/10.1108/IJCHM-01-2018-0043')"
   ]
  },
  {
   "cell_type": "code",
   "execution_count": 136,
   "metadata": {
    "ExecuteTime": {
     "end_time": "2018-07-21T23:44:23.321358Z",
     "start_time": "2018-07-21T23:44:19.216418Z"
    },
    "collapsed": true
   },
   "outputs": [],
   "source": [
    "with open('test2.pdf', 'wb') as f:\n",
    "    file=requests.get('https://www.emeraldinsight.com/doi/pdfplus/10.1108/09596111011013444', verify=False, stream=True)\n",
    "    f.write(file.content)#保存文件用二进制形式"
   ]
  },
  {
   "cell_type": "markdown",
   "metadata": {
    "ExecuteTime": {
     "end_time": "2018-07-21T23:10:08.830985Z",
     "start_time": "2018-07-21T23:10:08.826987Z"
    }
   },
   "source": [
    "## 整合代码"
   ]
  },
  {
   "cell_type": "code",
   "execution_count": 2,
   "metadata": {
    "ExecuteTime": {
     "end_time": "2018-07-22T01:04:07.232234Z",
     "start_time": "2018-07-22T01:04:07.225238Z"
    },
    "collapsed": true
   },
   "outputs": [],
   "source": [
    "import os\n",
    "def createDir(dirName):\n",
    "    if not os.path.exists(dirName):\n",
    "        os.mkdir(dirName)"
   ]
  },
  {
   "cell_type": "code",
   "execution_count": 3,
   "metadata": {
    "ExecuteTime": {
     "end_time": "2018-07-22T01:04:07.805717Z",
     "start_time": "2018-07-22T01:04:07.786727Z"
    },
    "collapsed": true
   },
   "outputs": [],
   "source": [
    "def fixFileNameOSError(fn):\n",
    "    fn = fn.replace('\\\\', '')\n",
    "    fn = fn.replace('/', '')\n",
    "    fn = fn.replace(':', '')\n",
    "    fn = fn.replace('：', '')\n",
    "    fn = fn.replace('？', '')\n",
    "    fn = fn.replace('?', '')\n",
    "    fn = fn.replace('\"', '')\n",
    "    fn = fn.replace('<', '')\n",
    "    fn = fn.replace('>', '')\n",
    "    fn = fn.replace('|', '')\n",
    "    return fn"
   ]
  },
  {
   "cell_type": "code",
   "execution_count": 5,
   "metadata": {
    "ExecuteTime": {
     "end_time": "2018-07-22T01:04:23.591459Z",
     "start_time": "2018-07-22T01:04:23.576467Z"
    },
    "collapsed": true
   },
   "outputs": [],
   "source": [
    "def downloadPDF(fileName, url):\n",
    "    #加了while循环反而会导致无法中断任务\n",
    "#     cnt=1\n",
    "#     tryTime = 5\n",
    "#     while cnt<=tryTime:\n",
    "#         try:\n",
    "            with open(fileName, 'wb') as f:\n",
    "                file=requests.get(url, verify=False, stream=True)\n",
    "                f.write(file.content)#保存文件用二进制形式\n",
    "#         except:\n",
    "#             cnt=cnt+1\n",
    "#     print('fail in url: ' + url)"
   ]
  },
  {
   "cell_type": "code",
   "execution_count": 6,
   "metadata": {
    "ExecuteTime": {
     "end_time": "2018-07-22T01:57:07.896780Z",
     "start_time": "2018-07-22T01:06:03.604095Z"
    },
    "scrolled": false
   },
   "outputs": [
    {
     "name": "stdout",
     "output_type": "stream",
     "text": [
      "2010complete....\n",
      "year 2011  url: https://www.emeraldinsight.com/doi/pdfplus/10.1108/09596111111130038\n",
      "year 2011  url: https://www.emeraldinsight.com/doi/pdfplus/10.1108/09596111111143412\n",
      "2011complete....\n",
      "year 2012  url: https://www.emeraldinsight.com/doi/pdfplus/10.1108/09596111211206141\n",
      "2012complete....\n",
      "year 2013  url: https://www.emeraldinsight.com/doi/pdfplus/10.1108/IJCHM-05-2012-0070\n",
      "2013complete....\n",
      "2014complete....\n",
      "year 2015  url: https://www.emeraldinsight.com/doi/pdfplus/10.1108/IJCHM-08-2013-0344\n",
      "year 2015  url: https://www.emeraldinsight.com/doi/pdfplus/10.1108/IJCHM-11-2013-0533\n",
      "year 2015  url: https://www.emeraldinsight.com/doi/pdfplus/10.1108/IJCHM-01-2014-0011\n",
      "year 2015  url: https://www.emeraldinsight.com/doi/pdfplus/10.1108/IJCHM-06-2014-0305\n",
      "2015complete....\n",
      "year 2016  url: https://www.emeraldinsight.com/doi/pdfplus/10.1108/IJCHM-06-2014-0278\n",
      "year 2016  url: https://www.emeraldinsight.com/doi/pdfplus/10.1108/IJCHM-10-2014-0498\n",
      "2016complete....\n",
      "year 2017  url: https://www.emeraldinsight.com/doi/pdfplus/10.1108/IJCHM-08-2015-0441\n",
      "year 2017  url: https://www.emeraldinsight.com/doi/pdfplus/10.1108/IJCHM-02-2016-0080\n",
      "2017complete....\n",
      "year 2018  url: https://www.emeraldinsight.com/doi/pdfplus/10.1108/IJCHM-10-2016-0596\n",
      "year 2018  url: https://www.emeraldinsight.com/doi/pdfplus/10.1108/IJCHM-04-2017-0187\n",
      "2018complete....\n"
     ]
    }
   ],
   "source": [
    "from requests.packages.urllib3.exceptions import InsecureRequestWarning\n",
    "\n",
    "requests.packages.urllib3.disable_warnings(InsecureRequestWarning)\n",
    "\n",
    "#创建文件夹\n",
    "rootPath = 'www.emeraldinsight.com'\n",
    "createDir(rootPath)\n",
    "# 得到各个volume的链接\n",
    "year2vol = {2018:[6, 30], 2017:[12,29], 2016:[12, 28],\n",
    "            2015:[8, 27], 2014:[8, 26], 2013:[7, 25],\n",
    "            2012:[7, 24], 2011:[7, 23], 2010:[7, 22]}\n",
    "for year in range(2010, 2019):\n",
    "    createDir(rootPath + \"\\\\\" + str(year))\n",
    "    for issue in range(1, year2vol[year][0]+1):\n",
    "        #得到各个issue下面的文献的PDF下载链接以及文献名字\n",
    "        issueLink = 'https://www.emeraldinsight.com/toc/ijchm/'+str(year2vol[year][1])+'/'+str(issue)\n",
    "        pdfPattern = re.compile('<a class=\"ref nowrap\" href=\"(.*?)\">(.*?)</a>')\n",
    "        pdfList = pdfPattern.findall(getHTMLText(issueLink, 'utf-8'))[::2][:-1] #去除冗余无用的链接\n",
    "        ##通过找到的规律修改链接\n",
    "        newPdfList = []\n",
    "        for item in pdfList:\n",
    "            item = list(item)\n",
    "            item[0] = 'https://www.emeraldinsight.com' + item[0].replace('full', 'pdfplus')\n",
    "            item[1] = fixFileNameOSError(item[1])\n",
    "            newPdfList.append(item)\n",
    "        #批量爬取PDF\n",
    "        for item in newPdfList:\n",
    "            try:\n",
    "                fileName = \".\\\\\"+ rootPath + \"\\\\\" + str(year) + \"\\\\\" +item[1]+'.pdf'\n",
    "                downloadPDF(fileName, item[0])\n",
    "            except:\n",
    "                print(\"year\", year, \" url:\", item[0])\n",
    "    print(str(year) + \"complete....\")"
   ]
  },
  {
   "cell_type": "markdown",
   "metadata": {},
   "source": [
    "爬取时遇到的问题：\n",
    "\n",
    "- 1.经常连接中断，所以选择将连接质量不佳的PDF下载任务直接打印出来后期手动下载\n",
    "- 2.不确定是不是真的把所有的数据都爬下来了，总有点担心有些文献漏掉了"
   ]
  },
  {
   "cell_type": "markdown",
   "metadata": {},
   "source": [
    "# 爬取 http://journals.sagepub.com/loi/jtrb"
   ]
  },
  {
   "cell_type": "markdown",
   "metadata": {},
   "source": [
    "## 得到各个volume的链接"
   ]
  },
  {
   "cell_type": "code",
   "execution_count": 106,
   "metadata": {
    "ExecuteTime": {
     "end_time": "2018-07-21T22:32:28.493730Z",
     "start_time": "2018-07-21T22:32:28.478739Z"
    },
    "scrolled": true
   },
   "outputs": [
    {
     "name": "stdout",
     "output_type": "stream",
     "text": [
      "http://journals.sagepub.com/toc/jtrb/49/1\n",
      "http://journals.sagepub.com/toc/jtrb/49/2\n",
      "http://journals.sagepub.com/toc/jtrb/49/3\n",
      "http://journals.sagepub.com/toc/jtrb/49/4\n",
      "http://journals.sagepub.com/toc/jtrb/50/1\n",
      "http://journals.sagepub.com/toc/jtrb/50/2\n",
      "http://journals.sagepub.com/toc/jtrb/50/3\n",
      "http://journals.sagepub.com/toc/jtrb/50/4\n",
      "http://journals.sagepub.com/toc/jtrb/50/5\n",
      "http://journals.sagepub.com/toc/jtrb/50/6\n",
      "http://journals.sagepub.com/toc/jtrb/51/1\n",
      "http://journals.sagepub.com/toc/jtrb/51/2\n",
      "http://journals.sagepub.com/toc/jtrb/51/3\n",
      "http://journals.sagepub.com/toc/jtrb/51/4\n",
      "http://journals.sagepub.com/toc/jtrb/51/5\n",
      "http://journals.sagepub.com/toc/jtrb/51/6\n",
      "http://journals.sagepub.com/toc/jtrb/52/1\n",
      "http://journals.sagepub.com/toc/jtrb/52/2\n",
      "http://journals.sagepub.com/toc/jtrb/52/3\n",
      "http://journals.sagepub.com/toc/jtrb/52/4\n",
      "http://journals.sagepub.com/toc/jtrb/52/5\n",
      "http://journals.sagepub.com/toc/jtrb/52/6\n",
      "http://journals.sagepub.com/toc/jtrb/53/1\n",
      "http://journals.sagepub.com/toc/jtrb/53/2\n",
      "http://journals.sagepub.com/toc/jtrb/53/3\n",
      "http://journals.sagepub.com/toc/jtrb/53/4\n",
      "http://journals.sagepub.com/toc/jtrb/53/5\n",
      "http://journals.sagepub.com/toc/jtrb/53/6\n",
      "http://journals.sagepub.com/toc/jtrb/54/1\n",
      "http://journals.sagepub.com/toc/jtrb/54/2\n",
      "http://journals.sagepub.com/toc/jtrb/54/3\n",
      "http://journals.sagepub.com/toc/jtrb/54/4\n",
      "http://journals.sagepub.com/toc/jtrb/54/5\n",
      "http://journals.sagepub.com/toc/jtrb/54/6\n",
      "http://journals.sagepub.com/toc/jtrb/55/1\n",
      "http://journals.sagepub.com/toc/jtrb/55/2\n",
      "http://journals.sagepub.com/toc/jtrb/55/3\n",
      "http://journals.sagepub.com/toc/jtrb/55/4\n",
      "http://journals.sagepub.com/toc/jtrb/55/5\n",
      "http://journals.sagepub.com/toc/jtrb/55/6\n",
      "http://journals.sagepub.com/toc/jtrb/55/7\n",
      "http://journals.sagepub.com/toc/jtrb/55/8\n",
      "http://journals.sagepub.com/toc/jtrb/56/1\n",
      "http://journals.sagepub.com/toc/jtrb/56/2\n",
      "http://journals.sagepub.com/toc/jtrb/56/3\n",
      "http://journals.sagepub.com/toc/jtrb/56/4\n",
      "http://journals.sagepub.com/toc/jtrb/56/5\n",
      "http://journals.sagepub.com/toc/jtrb/56/6\n",
      "http://journals.sagepub.com/toc/jtrb/56/7\n",
      "http://journals.sagepub.com/toc/jtrb/56/8\n",
      "http://journals.sagepub.com/toc/jtrb/57/1\n",
      "http://journals.sagepub.com/toc/jtrb/57/2\n",
      "http://journals.sagepub.com/toc/jtrb/57/3\n",
      "http://journals.sagepub.com/toc/jtrb/57/4\n",
      "http://journals.sagepub.com/toc/jtrb/57/5\n",
      "http://journals.sagepub.com/toc/jtrb/57/6\n"
     ]
    }
   ],
   "source": [
    "year2vol = {2018:[6, 57], 2017:[8, 56], 2016:[8, 55],\n",
    "            2015:[6, 54], 2014:[6, 53], 2013:[6, 52],\n",
    "            2012:[6, 51], 2011:[6, 50], 2010:[4, 49]}\n",
    "for year in range(2010, 2019):\n",
    "    for issue in range(1, year2vol[year][0]+1):\n",
    "        #TODO:针对每一个issue抓取数据\n",
    "        print('http://journals.sagepub.com/toc/jtrb/'+str(year2vol[year][1])+'/'+str(issue))"
   ]
  },
  {
   "cell_type": "markdown",
   "metadata": {},
   "source": [
    "## 得到各个issue下面的文献的PDF下载链接以及文献名字"
   ]
  },
  {
   "cell_type": "code",
   "execution_count": 105,
   "metadata": {
    "ExecuteTime": {
     "end_time": "2018-07-21T22:32:27.743159Z",
     "start_time": "2018-07-21T22:32:23.793426Z"
    }
   },
   "outputs": [
    {
     "name": "stdout",
     "output_type": "stream",
     "text": [
      "编码方式为：utf-8\n"
     ]
    }
   ],
   "source": [
    "printEncoding('http://journals.sagepub.com/toc/jtrb/57/6')"
   ]
  },
  {
   "cell_type": "code",
   "execution_count": 9,
   "metadata": {
    "ExecuteTime": {
     "end_time": "2018-07-22T11:45:01.626744Z",
     "start_time": "2018-07-22T11:45:00.659470Z"
    }
   },
   "outputs": [
    {
     "data": {
      "text/plain": [
       "[('/doi/full/10.1177/0047287517713722',\n",
       "  'A Tale of Two Cultures: Consumer Reactance and Willingness to Book Fenced Rates'),\n",
       " ('/doi/full/10.1177/0047287517718354',\n",
       "  'Brand Management in the Era of Social Media: Social Visibility of Consumption and Customer Brand Identification'),\n",
       " ('/doi/full/10.1177/0047287517714907',\n",
       "  'Antecedents and Consequences of Work-Related Smartphone Use on Vacation: An Exploratory Study of Taiwanese Tourists'),\n",
       " ('/doi/full/10.1177/0047287517714908',\n",
       "  'Discourse and Power Relations in Community Tourism'),\n",
       " ('/doi/full/10.1177/0047287517718353',\n",
       "  'Is It My Luck or Loyalty? The Role of Culture on Customer Preferences for Loyalty Reward Types'),\n",
       " ('/doi/full/10.1177/0047287517714906',\n",
       "  'Using User-Generated Content to Explore the Temporal Heterogeneity in Tourist Mobility'),\n",
       " ('/doi/full/10.1177/0047287517717350',\n",
       "  'Ecotourism Behavior of Nature-Based Tourists: An Integrative Framework'),\n",
       " ('/doi/full/10.1177/0047287517718352',\n",
       "  'Examining How Companies’ Support of Tourist Attractions Affects Visiting Intentions: The Mediating Role of Perceived Authenticity'),\n",
       " ('/doi/full/10.1177/0047287517720119',\n",
       "  'Dark Tourism, Emotions, and Postexperience Visitor Effects in a Sensitive Geopolitical Context: A Chinese Case Study')]"
      ]
     },
     "execution_count": 9,
     "metadata": {},
     "output_type": "execute_result"
    }
   ],
   "source": [
    "pdfPattern = re.compile('<a data-item-name=\"click-article-title\" class=\"ref nowrap\" href=\"(.*?)\"><h3 class=\"heading-title\"><span class=\"hlFld-Title\">(.*?)</span>')\n",
    "pdfList = pdfPattern.findall(getHTMLText('http://journals.sagepub.com/toc/jtrb/57/6', 'utf-8'))\n",
    "pdfList"
   ]
  },
  {
   "cell_type": "code",
   "execution_count": 112,
   "metadata": {
    "ExecuteTime": {
     "end_time": "2018-07-21T22:39:30.412677Z",
     "start_time": "2018-07-21T22:39:30.398683Z"
    }
   },
   "outputs": [
    {
     "data": {
      "text/plain": [
       "[['http://journals.sagepub.com/doi/pdf/10.1177/0047287517713722',\n",
       "  'A Tale of Two Cultures: Consumer Reactance and Willingness to Book Fenced Rates'],\n",
       " ['http://journals.sagepub.com/doi/pdf/10.1177/0047287517718354',\n",
       "  'Brand Management in the Era of Social Media: Social Visibility of Consumption and Customer Brand Identification'],\n",
       " ['http://journals.sagepub.com/doi/pdf/10.1177/0047287517714907',\n",
       "  'Antecedents and Consequences of Work-Related Smartphone Use on Vacation: An Exploratory Study of Taiwanese Tourists'],\n",
       " ['http://journals.sagepub.com/doi/pdf/10.1177/0047287517714908',\n",
       "  'Discourse and Power Relations in Community Tourism'],\n",
       " ['http://journals.sagepub.com/doi/pdf/10.1177/0047287517718353',\n",
       "  'Is It My Luck or Loyalty? The Role of Culture on Customer Preferences for Loyalty Reward Types'],\n",
       " ['http://journals.sagepub.com/doi/pdf/10.1177/0047287517714906',\n",
       "  'Using User-Generated Content to Explore the Temporal Heterogeneity in Tourist Mobility'],\n",
       " ['http://journals.sagepub.com/doi/pdf/10.1177/0047287517717350',\n",
       "  'Ecotourism Behavior of Nature-Based Tourists: An Integrative Framework'],\n",
       " ['http://journals.sagepub.com/doi/pdf/10.1177/0047287517718352',\n",
       "  'Examining How Companies’ Support of Tourist Attractions Affects Visiting Intentions: The Mediating Role of Perceived Authenticity'],\n",
       " ['http://journals.sagepub.com/doi/pdf/10.1177/0047287517720119',\n",
       "  'Dark Tourism, Emotions, and Postexperience Visitor Effects in a Sensitive Geopolitical Context: A Chinese Case Study']]"
      ]
     },
     "execution_count": 112,
     "metadata": {},
     "output_type": "execute_result"
    }
   ],
   "source": [
    "newPdfList = []\n",
    "for item in pdfList:\n",
    "    item = list(item)\n",
    "    item[0] = 'http://journals.sagepub.com' + item[0].replace('full', 'pdf')\n",
    "    newPdfList.append(item)\n",
    "newPdfList"
   ]
  },
  {
   "cell_type": "markdown",
   "metadata": {},
   "source": [
    "## 整合代码"
   ]
  },
  {
   "cell_type": "code",
   "execution_count": 10,
   "metadata": {
    "ExecuteTime": {
     "end_time": "2018-07-22T12:15:14.400598Z",
     "start_time": "2018-07-22T11:45:57.460592Z"
    },
    "scrolled": true
   },
   "outputs": [
    {
     "name": "stdout",
     "output_type": "stream",
     "text": [
      "2010complete....\n",
      "2010complete....\n",
      "2010complete....\n",
      "2010complete....\n",
      "2011complete....\n",
      "2011complete....\n",
      "2011complete....\n",
      "2011complete....\n",
      "2011complete....\n",
      "2011complete....\n",
      "2012complete....\n",
      "2012complete....\n",
      "2012complete....\n",
      "2012complete....\n",
      "2012complete....\n",
      "2012complete....\n",
      "2013complete....\n",
      "2013complete....\n",
      "2013complete....\n",
      "2013complete....\n",
      "year 2013  url: http://journals.sagepub.com/doi/pdf/10.1177/0047287512475219\n",
      "2013complete....\n",
      "year 2013  url: http://journals.sagepub.com/doi/pdf/10.1177/0047287513481272\n",
      "2013complete....\n",
      "2014complete....\n",
      "year 2014  url: http://journals.sagepub.com/doi/pdf/10.1177/0047287513491332\n",
      "2014complete....\n",
      "2014complete....\n",
      "2014complete....\n",
      "2014complete....\n",
      "2014complete....\n",
      "2015complete....\n",
      "2015complete....\n",
      "2015complete....\n",
      "2015complete....\n",
      "2015complete....\n",
      "2015complete....\n",
      "2016complete....\n",
      "2016complete....\n",
      "2016complete....\n",
      "2016complete....\n",
      "2016complete....\n",
      "2016complete....\n",
      "2016complete....\n",
      "2016complete....\n",
      "2017complete....\n",
      "2017complete....\n",
      "2017complete....\n",
      "2017complete....\n",
      "2017complete....\n",
      "2017complete....\n",
      "2017complete....\n",
      "2017complete....\n",
      "2018complete....\n",
      "2018complete....\n",
      "2018complete....\n",
      "2018complete....\n",
      "2018complete....\n",
      "2018complete....\n"
     ]
    }
   ],
   "source": [
    "#创建文件夹\n",
    "rootPath = 'journals.sagepub.com'\n",
    "createDir(rootPath)\n",
    "# 得到各个volume的链接\n",
    "year2vol = {2018:[6, 57], 2017:[8, 56], 2016:[8, 55],\n",
    "            2015:[6, 54], 2014:[6, 53], 2013:[6, 52],\n",
    "            2012:[6, 51], 2011:[6, 50], 2010:[4, 49]}\n",
    "for year in range(2010, 2019):\n",
    "    createDir(rootPath + \"\\\\\" + str(year))\n",
    "    for issue in range(1, year2vol[year][0]+1):\n",
    "        #得到各个issue下面的文献的PDF下载链接以及文献名字\n",
    "        issueLink = 'http://journals.sagepub.com/toc/jtrb/'+str(year2vol[year][1])+'/'+str(issue)\n",
    "        pdfPattern = re.compile('<a data-item-name=\"click-article-title\" class=\"ref nowrap\" href=\"(.*?)\"><h3 class=\"heading-title\"><span class=\"hlFld-Title\">(.*?)</span>')\n",
    "        pdfList = pdfPattern.findall(getHTMLText(issueLink, 'utf-8'))\n",
    "        ##通过找到的规律修改链接\n",
    "        newPdfList = []\n",
    "        for item in pdfList:\n",
    "            item = list(item)\n",
    "            item[0] = 'http://journals.sagepub.com' + item[0].replace('full', 'pdf')\n",
    "            item[1] = fixFileNameOSError(item[1])\n",
    "            newPdfList.append(item)\n",
    "        #批量爬取PDF\n",
    "        for item in newPdfList:\n",
    "            try:\n",
    "                fileName = \".\\\\\"+ rootPath + \"\\\\\" + str(year) + \"\\\\\" + item[1] + '.pdf'\n",
    "                downloadPDF(fileName, item[0])\n",
    "            except:\n",
    "                print(\"year\", year, \" url:\", item[0])\n",
    "    print(str(year) + \"complete....\")"
   ]
  }
 ],
 "metadata": {
  "anaconda-cloud": {},
  "kernelspec": {
   "display_name": "Python [conda root]",
   "language": "python",
   "name": "conda-root-py"
  },
  "language_info": {
   "codemirror_mode": {
    "name": "ipython",
    "version": 3
   },
   "file_extension": ".py",
   "mimetype": "text/x-python",
   "name": "python",
   "nbconvert_exporter": "python",
   "pygments_lexer": "ipython3",
   "version": "3.5.2"
  },
  "toc": {
   "nav_menu": {},
   "number_sections": true,
   "sideBar": true,
   "skip_h1_title": false,
   "toc_cell": false,
   "toc_position": {},
   "toc_section_display": "block",
   "toc_window_display": false
  }
 },
 "nbformat": 4,
 "nbformat_minor": 1
}
