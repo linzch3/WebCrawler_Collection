{
 "cells": [
  {
   "cell_type": "markdown",
   "metadata": {},
   "source": [
    "## demo\n",
    "\n",
    "@todo: \n",
    "\n",
    "---\n",
    "\n",
    "说明爬取哪里的数据（附上链接），得到数据包含什么。\n",
    "\n",
    "举例：\n",
    "\n",
    "爬取[肇庆市政府网页][肇庆市政府网页]中关于网友问政的内容\n",
    "\n",
    "具体包含：问政标题、 网友名称、问政日期、浏览次数、问政内容、回复内容、牵头部门 共7项数据\n",
    "\n",
    "[肇庆市政府网页]:http://wz.zhaoqing.gov.cn/wzpt/index.php?act=political&op=political_list1&curpage=0\n",
    "\n",
    "---"
   ]
  },
  {
   "cell_type": "markdown",
   "metadata": {},
   "source": [
    "### 1.import一些会使用到的库 + 使用到的函数"
   ]
  },
  {
   "cell_type": "code",
   "execution_count": 4,
   "metadata": {
    "collapsed": true
   },
   "outputs": [],
   "source": [
    "import requests\n",
    "from bs4 import BeautifulSoup\n",
    "import re\n",
    "import traceback\n",
    "headers = {'User-Agent':'Mozilla/5.0 (Windows NT 10.0; WOW64) AppleWebKit/537.36 (KHTML, like Gecko) Chrome/57.0.2987.98 Safari/537.36'}\n",
    "\n",
    "def getHTMLText(url, code='utf-8'):\n",
    "    cnt=1\n",
    "    '''测试版本的getHTMLText函数 只尝试 较少的次数 进行抓取，方便debug'''\n",
    "    tryTime = 5\n",
    "    while cnt<=tryTime:\n",
    "        try:\n",
    "            print(\"处理URL:\"+url)\n",
    "            r = requests.get(url,headers=headers,timeout=3000)\n",
    "            r.raise_for_status()\n",
    "            print('编码方式为：'+r.apparent_encoding)#注意判断编码方式\n",
    "            r.encoding = code\n",
    "            return r.text\n",
    "        except:\n",
    "            cnt=cnt+1\n",
    "            traceback.print_exc()\n",
    "            print('\\n\\ntry again....\\n\\n')\n",
    "    print('%s times try, but failed........' % tryTime)\n",
    "    return None"
   ]
  },
  {
   "cell_type": "markdown",
   "metadata": {},
   "source": [
    "### 2.指定的要爬取的每一页的链接"
   ]
  },
  {
   "cell_type": "code",
   "execution_count": 7,
   "metadata": {
    "collapsed": true
   },
   "outputs": [],
   "source": [
    "basicUrl='xxx{page}' "
   ]
  },
  {
   "cell_type": "markdown",
   "metadata": {},
   "source": [
    "### 3.得到对应一个主页面（如首页）源代码下包含的所有子页面的链接，用list存储"
   ]
  },
  {
   "cell_type": "code",
   "execution_count": 11,
   "metadata": {
    "collapsed": false
   },
   "outputs": [],
   "source": [
    "#得到首页的源代码\n",
    "htmlText=getHTMLText(basicUrl.format(page = 0)) ### 有时是0，有时是1，这个需要注意\n",
    "#得到页面的子链接(一般用正则表达式来提取更快)\n",
    "detailPattern=re.compile('political_id=(\\d)+') ### 查看源代码，找到子链接的正则表达式\n",
    "#使用列表表达式得到当前页面下的所有子页面的链接\n",
    "detailURLs=['http://www.huizhou.gov.cn/viewletter.shtml?method=viewLetter&lid='+ id for id in detailPattern.findall(htmlText)]"
   ]
  },
  {
   "cell_type": "markdown",
   "metadata": {},
   "source": [
    "### 4.得到最大页面数"
   ]
  },
  {
   "cell_type": "code",
   "execution_count": 12,
   "metadata": {
    "collapsed": true
   },
   "outputs": [],
   "source": [
    "def getMaxPage(basicUrl):\n",
    "    print('预处理阶段：得到最大页面数')\n",
    "    test = getHTMLText(basicUrl.format(page=0))\n",
    "    '''\n",
    "    使用正则表达式得到 【末页】 对应的最大页面\n",
    "    方法：查看源代码->搜索 【末页】\n",
    "    注意点：正则表达式要尽量精确，对于匹配最大页面数，使用\\d+来匹配相对.*?就比较精确\n",
    "    '''\n",
    "    maxPagePattern = r'curpage=(\\d+)\\\"><span>末页</span>'\n",
    "    return re.findall(maxPagePattern,test)[0]\n",
    "print(getMaxPage(basicUrl))"
   ]
  },
  {
   "cell_type": "markdown",
   "metadata": {},
   "source": [
    "### 5.下面测试链接的抓取"
   ]
  },
  {
   "cell_type": "code",
   "execution_count": 13,
   "metadata": {
    "collapsed": true
   },
   "outputs": [],
   "source": [
    "# testLink1 = ''\n",
    "# testText = getHTMLText(testLink1)\n",
    "# '''有明显区分的规则的则使用re, 反之则使用BeautifulSoup'''\n",
    "# soup1 = BeautifulSoup(testText, \"html.parser\")\n",
    "# detailList = soup1.find_all('table',\n",
    "#                           attrs={'width':'100%',\n",
    "#                                  'border':'0',\n",
    "#                                  'cellpadding':'3',\n",
    "#                                  'cellspacing':'5'})\n",
    "# #balabala"
   ]
  }
 ],
 "metadata": {
  "kernelspec": {
   "display_name": "Python [conda root]",
   "language": "python",
   "name": "conda-root-py"
  },
  "language_info": {
   "codemirror_mode": {
    "name": "ipython",
    "version": 3
   },
   "file_extension": ".py",
   "mimetype": "text/x-python",
   "name": "python",
   "nbconvert_exporter": "python",
   "pygments_lexer": "ipython3",
   "version": "3.5.2"
  }
 },
 "nbformat": 4,
 "nbformat_minor": 1
}
